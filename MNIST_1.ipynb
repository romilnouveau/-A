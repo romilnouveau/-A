{
  "nbformat": 4,
  "nbformat_minor": 0,
  "metadata": {
    "colab": {
      "name": "MNIST_1.ipynb",
      "provenance": []
    },
    "kernelspec": {
      "name": "python3",
      "display_name": "Python 3"
    },
    "language_info": {
      "name": "python"
    },
    "accelerator": "GPU"
  },
  "cells": [
    {
      "cell_type": "markdown",
      "metadata": {
        "id": "4KRRYEJ8p1tI"
      },
      "source": [
        "https://github.com/chandan450/MNIST-Handwritten-Digit-Classification/blob/master/MNIST_Digit_Recognizer.ipynb"
      ]
    },
    {
      "cell_type": "code",
      "metadata": {
        "id": "whMN8DBE_0wr"
      },
      "source": [
        "from keras.models import Sequential \n",
        "from keras.layers import Dense, Conv2D, Flatten, MaxPool2D\n",
        "from keras.datasets import mnist\n",
        "from keras.utils import to_categorical\n",
        "import numpy as np\n",
        "import matplotlib.pyplot as plt"
      ],
      "execution_count": 3,
      "outputs": []
    },
    {
      "cell_type": "code",
      "metadata": {
        "colab": {
          "base_uri": "https://localhost:8080/"
        },
        "id": "CKuST2fHAREg",
        "outputId": "f5463096-7462-4ac5-ade0-c975398c8568"
      },
      "source": [
        "(x_train, y_train), (x_test, y_test) = mnist.load_data()"
      ],
      "execution_count": 4,
      "outputs": [
        {
          "output_type": "stream",
          "text": [
            "Downloading data from https://storage.googleapis.com/tensorflow/tf-keras-datasets/mnist.npz\n",
            "11493376/11490434 [==============================] - 0s 0us/step\n"
          ],
          "name": "stdout"
        }
      ]
    },
    {
      "cell_type": "code",
      "metadata": {
        "colab": {
          "base_uri": "https://localhost:8080/"
        },
        "id": "yzDa_tjfBTbb",
        "outputId": "5af76b72-2e2a-42b3-f7c4-a88e576a0cb5"
      },
      "source": [
        "x_train.shape , x_test.shape"
      ],
      "execution_count": 5,
      "outputs": [
        {
          "output_type": "execute_result",
          "data": {
            "text/plain": [
              "((60000, 28, 28), (10000, 28, 28))"
            ]
          },
          "metadata": {
            "tags": []
          },
          "execution_count": 5
        }
      ]
    },
    {
      "cell_type": "code",
      "metadata": {
        "colab": {
          "base_uri": "https://localhost:8080/",
          "height": 283
        },
        "id": "H5OVUDBKBbYj",
        "outputId": "875aa984-96aa-4ce3-b844-3fc9b57ce5cd"
      },
      "source": [
        "plt.imshow(x_train[100], cmap=plt.get_cmap('gray'))"
      ],
      "execution_count": 10,
      "outputs": [
        {
          "output_type": "execute_result",
          "data": {
            "text/plain": [
              "<matplotlib.image.AxesImage at 0x7fa6206f7d10>"
            ]
          },
          "metadata": {
            "tags": []
          },
          "execution_count": 10
        },
        {
          "output_type": "display_data",
          "data": {
            "image/png": "[encoded data removed]",
            "text/plain": [
              "<Figure size 432x288 with 1 Axes>"
            ]
          },
          "metadata": {
            "tags": [],
            "needs_background": "light"
          }
        }
      ]
    },
    {
      "cell_type": "code",
      "metadata": {
        "id": "iwLyX8HeBp4R"
      },
      "source": [
        "x_train = x_train.reshape(60000,28,28,1)\n",
        "x_test = x_test.reshape(10000,28,28,1)"
      ],
      "execution_count": null,
      "outputs": []
    },
    {
      "cell_type": "code",
      "metadata": {
        "id": "UJXoz-UDB4Zf"
      },
      "source": [
        "y_train_ohe = to_categorical(y_train)\n",
        "y_test_ohe = to_categorical(y_test)"
      ],
      "execution_count": null,
      "outputs": []
    },
    {
      "cell_type": "code",
      "metadata": {
        "colab": {
          "base_uri": "https://localhost:8080/"
        },
        "id": "ATk15JYvCZH6",
        "outputId": "60d088e4-e8f8-420c-e2a3-c93ed4eed977"
      },
      "source": [
        "y_train_ohe[101]"
      ],
      "execution_count": null,
      "outputs": [
        {
          "output_type": "execute_result",
          "data": {
            "text/plain": [
              "array([0., 0., 0., 0., 0., 0., 0., 1., 0., 0.], dtype=float32)"
            ]
          },
          "metadata": {
            "tags": []
          },
          "execution_count": 23
        }
      ]
    },
    {
      "cell_type": "code",
      "metadata": {
        "id": "cLF7nN0oCmQN"
      },
      "source": [
        "model = Sequential()\n",
        "model.add(Conv2D(64, kernel_size = 3, activation = 'relu', input_shape = (28,28,1)))\n",
        "model.add(Conv2D(32, kernel_size = 3, activation = 'relu'))\n",
        "model.add(MaxPool2D(pool_size=(2, 2), strides=None, padding='valid', data_format=None))\n",
        "model.add(Flatten())\n",
        "model.add(Dense(10,activation='softmax'))"
      ],
      "execution_count": null,
      "outputs": []
    },
    {
      "cell_type": "code",
      "metadata": {
        "id": "Y7_nQyRHD6_i"
      },
      "source": [
        "model.compile(optimizer='adam', loss='categorical_crossentropy', metrics=['accuracy'])"
      ],
      "execution_count": null,
      "outputs": []
    },
    {
      "cell_type": "code",
      "metadata": {
        "colab": {
          "base_uri": "https://localhost:8080/"
        },
        "id": "RXmGESRjEF9R",
        "outputId": "a575d464-2bac-4123-ebfc-c28d5b1be067"
      },
      "source": [
        "hist = model.fit(x_train,y_train_ohe, validation_data=(x_test,y_test_ohe), epochs=10)"
      ],
      "execution_count": null,
      "outputs": [
        {
          "output_type": "stream",
          "text": [
            "Epoch 1/10\n",
            "1875/1875 [==============================] - 39s 4ms/step - loss: 0.6087 - accuracy: 0.9083 - val_loss: 0.0776 - val_accuracy: 0.9746\n",
            "Epoch 2/10\n",
            "1875/1875 [==============================] - 6s 3ms/step - loss: 0.0667 - accuracy: 0.9801 - val_loss: 0.0790 - val_accuracy: 0.9755\n",
            "Epoch 3/10\n",
            "1875/1875 [==============================] - 6s 3ms/step - loss: 0.0490 - accuracy: 0.9846 - val_loss: 0.0702 - val_accuracy: 0.9795\n",
            "Epoch 4/10\n",
            "1875/1875 [==============================] - 6s 3ms/step - loss: 0.0393 - accuracy: 0.9874 - val_loss: 0.0618 - val_accuracy: 0.9833\n",
            "Epoch 5/10\n",
            "1875/1875 [==============================] - 6s 3ms/step - loss: 0.0302 - accuracy: 0.9903 - val_loss: 0.0586 - val_accuracy: 0.9839\n",
            "Epoch 6/10\n",
            "1875/1875 [==============================] - 6s 3ms/step - loss: 0.0250 - accuracy: 0.9918 - val_loss: 0.0818 - val_accuracy: 0.9798\n",
            "Epoch 7/10\n",
            "1875/1875 [==============================] - 6s 3ms/step - loss: 0.0220 - accuracy: 0.9932 - val_loss: 0.1013 - val_accuracy: 0.9808\n",
            "Epoch 8/10\n",
            "1875/1875 [==============================] - 6s 3ms/step - loss: 0.0213 - accuracy: 0.9937 - val_loss: 0.0941 - val_accuracy: 0.9813\n",
            "Epoch 9/10\n",
            "1875/1875 [==============================] - 6s 3ms/step - loss: 0.0207 - accuracy: 0.9940 - val_loss: 0.1153 - val_accuracy: 0.9780\n",
            "Epoch 10/10\n",
            "1875/1875 [==============================] - 6s 3ms/step - loss: 0.0186 - accuracy: 0.9942 - val_loss: 0.1031 - val_accuracy: 0.9809\n"
          ],
          "name": "stdout"
        }
      ]
    },
    {
      "cell_type": "code",
      "metadata": {
        "id": "YhowEbCCESNq"
      },
      "source": [
        ""
      ],
      "execution_count": null,
      "outputs": []
    }
  ]
}